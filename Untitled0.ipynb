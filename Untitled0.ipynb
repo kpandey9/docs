{
  "nbformat": 4,
  "nbformat_minor": 0,
  "metadata": {
    "colab": {
      "name": "Untitled0.ipynb",
      "provenance": [],
      "authorship_tag": "ABX9TyPaNDDFKZZmW+9X7maFYP9o",
      "include_colab_link": true
    },
    "kernelspec": {
      "name": "python3",
      "display_name": "Python 3"
    },
    "language_info": {
      "name": "python"
    }
  },
  "cells": [
    {
      "cell_type": "markdown",
      "metadata": {
        "id": "view-in-github",
        "colab_type": "text"
      },
      "source": [
        "<a href=\"https://colab.research.google.com/github/kpandey9/docs/blob/main/Untitled0.ipynb\" target=\"_parent\"><img src=\"https://colab.research.google.com/assets/colab-badge.svg\" alt=\"Open In Colab\"/></a>"
      ]
    },
    {
      "cell_type": "code",
      "source": [
        "pip install qrcode"
      ],
      "metadata": {
        "colab": {
          "base_uri": "https://localhost:8080/"
        },
        "id": "r5Yfu_9BpUw0",
        "outputId": "0b610439-dbd1-40cb-99c7-7029cbc89e08"
      },
      "execution_count": 4,
      "outputs": [
        {
          "output_type": "stream",
          "name": "stdout",
          "text": [
            "Looking in indexes: https://pypi.org/simple, https://us-python.pkg.dev/colab-wheels/public/simple/\n",
            "Collecting qrcode\n",
            "  Downloading qrcode-7.3.1.tar.gz (43 kB)\n",
            "\u001b[K     |████████████████████████████████| 43 kB 1.2 MB/s \n",
            "\u001b[?25hBuilding wheels for collected packages: qrcode\n",
            "  Building wheel for qrcode (setup.py) ... \u001b[?25l\u001b[?25hdone\n",
            "  Created wheel for qrcode: filename=qrcode-7.3.1-py3-none-any.whl size=40402 sha256=69ccf94f52e57cf988ee8f02be267d210a5c58325fd9ef3e2efadf2cf055e783\n",
            "  Stored in directory: /root/.cache/pip/wheels/93/d7/39/a4111be2cfb8e679938aa671a37888b6afb1f9e7d748e94492\n",
            "Successfully built qrcode\n",
            "Installing collected packages: qrcode\n",
            "Successfully installed qrcode-7.3.1\n"
          ]
        }
      ]
    },
    {
      "cell_type": "code",
      "source": [
        "# Importing library\n",
        "import qrcode\n",
        "from PIL import Image\n",
        "\n",
        "# Data to encode\n",
        "location = \"A1130\"\n",
        " \n",
        "# Creating an instance of QRCode class\n",
        "qr = qrcode.QRCode(version = 1,\n",
        "                   box_size = 10,\n",
        "                   border = 5)\n",
        " \n",
        "# Adding data to the instance 'qr'\n",
        "qr.add_data(location)\n",
        "qr.make(fit = True)\n",
        "img = qr.make_image(fill_color = 'black',\n",
        "                    back_color = 'white')\n",
        " \n",
        "img.save('LOCATION.png')"
      ],
      "metadata": {
        "id": "g2b2dQA4_X9v"
      },
      "execution_count": 5,
      "outputs": []
    },
    {
      "cell_type": "code",
      "source": [
        "# Data to encode\n",
        "asset = \"A25058\"\n",
        " \n",
        "# Creating an instance of QRCode class\n",
        "qr = qrcode.QRCode(version = 1,\n",
        "                   box_size = 10,\n",
        "                   border = 5)\n",
        " \n",
        "# Adding data to the instance 'qr'\n",
        "qr.add_data(asset)\n",
        "qr.make(fit = True)\n",
        "img = qr.make_image(fill_color = 'black',\n",
        "                    back_color = 'white')\n",
        " \n",
        "img.save('ASSET.png')"
      ],
      "metadata": {
        "id": "tS8sgOs6Hdf5"
      },
      "execution_count": 6,
      "outputs": []
    }
  ]
}